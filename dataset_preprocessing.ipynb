{
 "cells": [
  {
   "cell_type": "markdown",
   "source": [
    "### Import Library"
   ],
   "metadata": {
    "collapsed": false
   },
   "id": "b0bad6c1f5b665c2"
  },
  {
   "cell_type": "code",
   "execution_count": 8,
   "id": "initial_id",
   "metadata": {
    "collapsed": true,
    "ExecuteTime": {
     "end_time": "2023-11-13T03:11:34.171959500Z",
     "start_time": "2023-11-13T03:11:34.108057300Z"
    }
   },
   "outputs": [],
   "source": [
    "import cv2\n",
    "import numpy as np\n",
    "import json\n",
    "import os\n",
    "\n",
    "%matplotlib inline"
   ]
  },
  {
   "cell_type": "markdown",
   "source": [
    "### Load Iris Needle Dataset Mask"
   ],
   "metadata": {
    "collapsed": false
   },
   "id": "9f4f63020b26d635"
  },
  {
   "cell_type": "code",
   "execution_count": null,
   "outputs": [],
   "source": [
    "# Load COCO File Path\n",
    "f = open('dataset/iris_neddle_raw_dataset/train_annotations.coco.json', 'r')\n",
    "data = json.load(f)"
   ],
   "metadata": {
    "collapsed": false
   },
   "id": "e0c90c7741edfb51"
  },
  {
   "cell_type": "code",
   "execution_count": null,
   "outputs": [],
   "source": [
    "# Define Mask Directory\n",
    "mask_dir = 'dataset/iris_needle_seg_dataset/mask/'"
   ],
   "metadata": {
    "collapsed": false
   },
   "id": "f6827cd38b4a9a00"
  },
  {
   "cell_type": "code",
   "execution_count": null,
   "outputs": [],
   "source": [
    "# Processing Mask\n",
    "images = data['images']\n",
    "annotations = data['annotations']\n",
    "\n",
    "for image in images:\n",
    "    mask = np.zeros((image['height'], image['width']))\n",
    "    for annotation in annotations:\n",
    "        if annotation['image_id'] == image['id']:\n",
    "            seg = annotation['segmentation']\n",
    "            seg = np.array(seg).reshape((-1, 1, 2)).astype(np.int32)\n",
    "            cv2.fillPoly(mask, [seg], 255)\n",
    "    cv2.imwrite(mask_dir + image['file_name'], mask)\n",
    "    print(image['file_name'])"
   ],
   "metadata": {
    "collapsed": false
   },
   "id": "731edf8019fa06af"
  },
  {
   "cell_type": "markdown",
   "source": [
    "### Load Cataract Dataset Mask"
   ],
   "metadata": {
    "collapsed": false
   },
   "id": "91fbea4a419b6804"
  },
  {
   "cell_type": "code",
   "execution_count": null,
   "outputs": [],
   "source": [
    "# Load COCO File Path\n",
    "f = open('datasets/classification_datasets/cataract_raw_dataset/550_coco_imglab.json', 'r')\n",
    "data = json.load(f)"
   ],
   "metadata": {
    "collapsed": false
   },
   "id": "4ccf2ec16f06cba7"
  },
  {
   "cell_type": "code",
   "execution_count": null,
   "outputs": [],
   "source": [
    "# Define Mask Directory\n",
    "mask_dir = 'datasets/segmentation_datasets/cataract_seg_dataset/mask/'"
   ],
   "metadata": {
    "collapsed": false
   },
   "id": "1cfb903976637fb2"
  },
  {
   "cell_type": "code",
   "execution_count": null,
   "outputs": [],
   "source": [
    "# Processing Mask\n",
    "images = data['images']\n",
    "annotations = data['annotations']\n",
    "\n",
    "for image in images:\n",
    "    mask = np.zeros((image['height'], image['width']))\n",
    "    for annotation in annotations:\n",
    "        if annotation['image_id'] == image['id']:\n",
    "            seg = annotation['segmentation']\n",
    "            seg = np.array(seg).reshape((-1, 1, 2)).astype(np.int32)\n",
    "            cv2.fillPoly(mask, [seg], 255)\n",
    "    if image['file_name'].endswith('.png'):\n",
    "        image['file_name'] = image['file_name'].replace('.png', '.jpg')\n",
    "    cv2.imwrite(mask_dir + image['file_name'], mask)\n",
    "    print(image['file_name'])\n",
    "\n",
    "with open('550_coco_imglab_fixed.json', 'w') as json_file:\n",
    "    json.dump(data, json_file)"
   ],
   "metadata": {
    "collapsed": false
   },
   "id": "eea4bffbbe40ca2f"
  },
  {
   "cell_type": "markdown",
   "source": [
    "### Bitwise Operation for Mask Cataract Dataset"
   ],
   "metadata": {
    "collapsed": false
   },
   "id": "f4d4dc5c50e51a62"
  },
  {
   "cell_type": "code",
   "execution_count": 2,
   "outputs": [
    {
     "name": "stdout",
     "output_type": "stream",
     "text": [
      "550\n",
      "datasets/segmentation_datasets/cataract_seg_dataset/original/mild_10.jpg\n",
      "550\n",
      "datasets/segmentation_datasets/cataract_seg_dataset/mask/mild_10.jpg\n"
     ]
    }
   ],
   "source": [
    "image_paths = []\n",
    "file_names = []\n",
    "for root, dirs, files in os.walk(\"datasets/segmentation_datasets/cataract_seg_dataset/original/\"):\n",
    "    for file in files:\n",
    "        image_paths.append(os.path.join(root, file))\n",
    "        file_names.append(file)\n",
    "print(len(image_paths))\n",
    "print(image_paths[1])\n",
    "\n",
    "mask_paths = []\n",
    "for root, dirs, files in os.walk(\"datasets/segmentation_datasets/cataract_seg_dataset/mask/\"):\n",
    "    for file in files:\n",
    "        mask_paths.append(os.path.join(root, file))\n",
    "print(len(mask_paths))\n",
    "print(mask_paths[1])"
   ],
   "metadata": {
    "collapsed": false,
    "ExecuteTime": {
     "end_time": "2023-11-12T17:37:20.977699800Z",
     "start_time": "2023-11-12T17:37:20.907841500Z"
    }
   },
   "id": "d7a039044e3e9220"
  },
  {
   "cell_type": "code",
   "execution_count": 9,
   "outputs": [],
   "source": [
    "for image, mask, filename in zip(image_paths, mask_paths, file_names):\n",
    "    x = cv2.imread(image)\n",
    "    x_mask = cv2.imread(mask, cv2.IMREAD_GRAYSCALE)\n",
    "    \n",
    "    result = cv2.bitwise_and(x, x, mask=x_mask)\n",
    "    \n",
    "    cv2.imwrite(\"datasets/segmentation_datasets/cataract_seg_dataset/blended/\" + filename, result)"
   ],
   "metadata": {
    "collapsed": false,
    "ExecuteTime": {
     "end_time": "2023-11-13T03:12:14.147225300Z",
     "start_time": "2023-11-13T03:12:12.936764100Z"
    }
   },
   "id": "3fb6c4195a8832d8"
  },
  {
   "cell_type": "code",
   "execution_count": 16,
   "outputs": [
    {
     "data": {
      "text/plain": "(100, 100, 3)"
     },
     "execution_count": 16,
     "metadata": {},
     "output_type": "execute_result"
    }
   ],
   "source": [
    "x.shape"
   ],
   "metadata": {
    "collapsed": false,
    "ExecuteTime": {
     "end_time": "2023-11-13T04:43:20.121758500Z",
     "start_time": "2023-11-13T04:43:20.097375Z"
    }
   },
   "id": "2723d9f64318f6c5"
  },
  {
   "cell_type": "code",
   "execution_count": 17,
   "outputs": [
    {
     "data": {
      "text/plain": "(100, 100)"
     },
     "execution_count": 17,
     "metadata": {},
     "output_type": "execute_result"
    }
   ],
   "source": [
    "x_mask.shape"
   ],
   "metadata": {
    "collapsed": false,
    "ExecuteTime": {
     "end_time": "2023-11-13T04:43:26.580576500Z",
     "start_time": "2023-11-13T04:43:26.528856Z"
    }
   },
   "id": "d0bed4369e062974"
  },
  {
   "cell_type": "code",
   "execution_count": 18,
   "outputs": [
    {
     "data": {
      "text/plain": "(100, 100, 3)"
     },
     "execution_count": 18,
     "metadata": {},
     "output_type": "execute_result"
    }
   ],
   "source": [
    "result.shape"
   ],
   "metadata": {
    "collapsed": false,
    "ExecuteTime": {
     "end_time": "2023-11-13T04:43:33.661571300Z",
     "start_time": "2023-11-13T04:43:33.604072900Z"
    }
   },
   "id": "a5eb41df092d67f1"
  },
  {
   "cell_type": "code",
   "execution_count": null,
   "outputs": [],
   "source": [],
   "metadata": {
    "collapsed": false
   },
   "id": "2a8402acfbb154f4"
  }
 ],
 "metadata": {
  "kernelspec": {
   "display_name": "Python 3",
   "language": "python",
   "name": "python3"
  },
  "language_info": {
   "codemirror_mode": {
    "name": "ipython",
    "version": 2
   },
   "file_extension": ".py",
   "mimetype": "text/x-python",
   "name": "python",
   "nbconvert_exporter": "python",
   "pygments_lexer": "ipython2",
   "version": "2.7.6"
  }
 },
 "nbformat": 4,
 "nbformat_minor": 5
}
