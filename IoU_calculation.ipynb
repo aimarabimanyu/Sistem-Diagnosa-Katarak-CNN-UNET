{
 "cells": [
  {
   "cell_type": "markdown",
   "source": [
    "# Importing the libraries"
   ],
   "metadata": {
    "collapsed": false
   },
   "id": "7cc5a3e00b9a4faa"
  },
  {
   "cell_type": "code",
   "execution_count": 1,
   "id": "initial_id",
   "metadata": {
    "collapsed": true,
    "ExecuteTime": {
     "end_time": "2024-01-12T09:31:25.876580600Z",
     "start_time": "2024-01-12T09:31:13.537228500Z"
    }
   },
   "outputs": [],
   "source": [
    "import tensorflow as tf\n",
    "import os\n",
    "from tqdm import tqdm\n",
    "import cv2\n",
    "import numpy as np"
   ]
  },
  {
   "cell_type": "markdown",
   "source": [
    "# Hyperparameter"
   ],
   "metadata": {
    "collapsed": false
   },
   "id": "d740d97f781ccdbd"
  },
  {
   "cell_type": "code",
   "execution_count": 2,
   "outputs": [],
   "source": [
    "MODEL_PATH = 'models/segmentation_model_3/model.tflite'\n",
    "SEG_TEST_DATASET_DIR = 'datasets/segmentation_datasets/iris_needle_seg_dataset_mixed/'\n",
    "\n",
    "IMG_HEIGHT = 128\n",
    "IMG_WIDTH = 128\n",
    "BATCH_SIZE_SEG = 8\n",
    "\n",
    "interpreter = tf.lite.Interpreter(model_path=MODEL_PATH)\n",
    "interpreter.allocate_tensors()"
   ],
   "metadata": {
    "collapsed": false,
    "ExecuteTime": {
     "end_time": "2024-01-12T09:31:25.939409600Z",
     "start_time": "2024-01-12T09:31:25.876271500Z"
    }
   },
   "id": "395cc5e02e18b004"
  },
  {
   "cell_type": "markdown",
   "source": [
    "# Importing the dataset"
   ],
   "metadata": {
    "collapsed": false
   },
   "id": "a6630863ea687f90"
  },
  {
   "cell_type": "code",
   "execution_count": 3,
   "outputs": [
    {
     "name": "stdout",
     "output_type": "stream",
     "text": [
      "129\n",
      "datasets/segmentation_datasets/iris_needle_seg_dataset_mixed/test_original\\SID0016_jpg.rf.fe55049434804bb6bf8f761e303b4a61.jpg\n",
      "129\n",
      "datasets/segmentation_datasets/iris_needle_seg_dataset_mixed/test_mask/SID0016_jpg.rf.fe55049434804bb6bf8f761e303b4a61.jpg\n"
     ]
    },
    {
     "name": "stderr",
     "output_type": "stream",
     "text": [
      "100%|██████████| 129/129 [00:00<00:00, 134.99it/s]\n",
      "100%|██████████| 129/129 [00:01<00:00, 92.81it/s]\n"
     ]
    }
   ],
   "source": [
    "# Load Test Dataset OG Image and Mask Image Path\n",
    "test_image_path = []\n",
    "test_mask_path = []\n",
    "for root, dirs, files in os.walk(SEG_TEST_DATASET_DIR + 'test_original'):\n",
    "    for file in files:\n",
    "        path_og = os.path.join(root,file)\n",
    "        path_mask = os.path.join(SEG_TEST_DATASET_DIR + 'test_mask/', file)\n",
    "        test_image_path.append(path_og)\n",
    "        test_mask_path.append(path_mask)\n",
    "\n",
    "# Verify Length and Consistency OG and Mask Image\n",
    "print(len(test_image_path))\n",
    "print(test_image_path[1])\n",
    "print(len(test_mask_path))\n",
    "print(test_mask_path[1])\n",
    "\n",
    "# Load and Grayscale Mask Image\n",
    "test_masks = []\n",
    "for path in tqdm(test_mask_path):\n",
    "    mask = cv2.imread(path)\n",
    "    mask = cv2.cvtColor(mask, cv2.COLOR_BGR2GRAY)\n",
    "    test_masks.append(mask)\n",
    "\n",
    "# Load and Grayscale OG Image\n",
    "test_images = []\n",
    "for path in tqdm(test_image_path):\n",
    "    image = cv2.imread(path)\n",
    "    image = cv2.cvtColor(image, cv2.COLOR_BGR2GRAY)\n",
    "    test_images.append(image)\n",
    "\n",
    "# Clear Outlier\n",
    "for mask in test_masks:\n",
    "    mask[mask < 127] = 0\n",
    "    mask[mask >= 127] = 255"
   ],
   "metadata": {
    "collapsed": false,
    "ExecuteTime": {
     "end_time": "2024-01-12T09:31:28.445338200Z",
     "start_time": "2024-01-12T09:31:25.941404400Z"
    }
   },
   "id": "fd8f755fdaa0d326"
  },
  {
   "cell_type": "markdown",
   "source": [
    "# IoU Scoring"
   ],
   "metadata": {
    "collapsed": false
   },
   "id": "d691bf38d2f97355"
  },
  {
   "cell_type": "code",
   "execution_count": 20,
   "outputs": [
    {
     "name": "stdout",
     "output_type": "stream",
     "text": [
      "[0.54315185546875, 0.3802490234375, 0.45806884765625, 0.4366455078125, 0.45306396484375, 0.42572021484375, 0.48681640625, 0.48553466796875, 0.51446533203125, 0.44366455078125, 0.5701904296875, 0.4481201171875, 0.56842041015625, 0.6480712890625, 0.5328369140625, 0.52093505859375, 0.5257568359375, 0.59478759765625, 0.67431640625, 0.61956787109375, 0.555908203125, 0.57421875, 0.62445068359375, 0.60113525390625, 0.5693359375, 0.61224365234375, 0.47576904296875, 0.58551025390625, 0.53363037109375, 0.45587158203125, 0.66009521484375, 0.52703857421875, 0.51092529296875, 0.4649658203125, 0.62109375, 0.60205078125, 0.64752197265625, 0.70068359375, 0.68316650390625, 0.53912353515625, 0.49139404296875, 0.473876953125, 0.54266357421875, 0.65374755859375, 0.53057861328125, 0.5496826171875, 0.501220703125, 0.46246337890625, 0.39483642578125, 0.61029052734375, 0.4072265625, 0.48779296875, 0.64410400390625, 0.4769287109375, 0.44976806640625, 0.56585693359375, 0.59765625, 0.47357177734375, 0.538818359375, 0.617431640625, 0.44476318359375, 0.56695556640625, 0.4488525390625, 0.50579833984375, 0.52789306640625, 0.43548583984375, 0.50201416015625, 0.4326171875, 0.356689453125, 0.52301025390625, 0.52313232421875, 0.49285888671875, 0.47015380859375, 0.380126953125, 0.4217529296875, 0.4920654296875, 0.47308349609375, 0.42022705078125, 0.54351806640625, 0.4990234375, 0.515380859375, 0.60791015625, 0.474609375, 0.5462646484375, 0.50701904296875, 0.42547607421875, 0.5916748046875, 0.50909423828125, 0.46893310546875, 0.49542236328125, 0.57177734375, 0.45196533203125, 0.47955322265625, 0.53521728515625, 0.566162109375, 0.5345458984375, 0.566650390625, 0.506103515625, 0.49957275390625, 0.52264404296875, 0.50421142578125, 0.55755615234375, 0.60491943359375, 0.54290771484375, 0.55377197265625, 0.54852294921875, 0.50091552734375, 0.5203857421875, 0.55279541015625, 0.48236083984375, 0.5880126953125, 0.54888916015625, 0.5994873046875, 0.58721923828125, 0.54217529296875, 0.52435302734375, 0.58538818359375, 0.58465576171875, 0.4810791015625, 0.549560546875, 0.553955078125, 0.6492919921875, 0.62469482421875, 0.56341552734375, 0.59686279296875, 0.55535888671875, 0.67779541015625, 0.5980224609375, 0.5220947265625]\n",
      "Average IoU score on the test set:  0.5308658097141473\n"
     ]
    }
   ],
   "source": [
    "def calculate_iou(y_true, y_pred):\n",
    "    intersection = np.logical_and(y_true, y_pred)\n",
    "    union = np.logical_or(y_true, y_pred)\n",
    "    iou_score = np.sum(intersection) / np.sum(union)\n",
    "    return iou_score\n",
    "\n",
    "iou_scores = []\n",
    "\n",
    "_, height, width, _ = interpreter.get_input_details()[0]['shape']\n",
    "\n",
    "# Iterate over the test data\n",
    "for i, (img, true_mask) in enumerate(zip(test_images, test_masks)):\n",
    "    # Load Image from Path and Resize\n",
    "    img = cv2.resize(img, (width, height)).astype(np.float32)\n",
    "    true_mask = cv2.resize(true_mask, (width, height)).astype(np.float32)\n",
    "    img = img / 255.0\n",
    "    \n",
    "    # Add Batch Dimension\n",
    "    img = np.expand_dims(img, axis=0)\n",
    "    img = np.expand_dims(img, axis=-1)\n",
    "\n",
    "    # Set Input and Invoke Segmentation Model\n",
    "    interpreter.set_tensor(interpreter.get_input_details()[0]['index'], img)\n",
    "    interpreter.invoke()\n",
    "\n",
    "    # Get Output\n",
    "    pred_mask = np.squeeze(interpreter.get_tensor(interpreter.get_output_details()[0]['index']))\n",
    "    \n",
    "    # Threshold the Output Segmentation\n",
    "    pred_mask = np.where(pred_mask > 0, 1, 0).astype(np.uint8)\n",
    "\n",
    "    # Calculate the IoU and append to the list\n",
    "    iou_score = calculate_iou(true_mask, pred_mask)\n",
    "    iou_scores.append(iou_score)\n",
    "    \n",
    "    # Save the first prediction and mask\n",
    "    if i == 0:\n",
    "        cv2.imwrite('first_prediction.png', pred_mask*255)\n",
    "        cv2.imwrite('first_mask.png', true_mask*255)\n",
    "        \n",
    "# Calculate the average IoU score\n",
    "average_iou = np.mean(iou_scores)\n",
    "print(iou_scores)\n",
    "print(\"Average IoU score on the test set: \", average_iou)"
   ],
   "metadata": {
    "collapsed": false,
    "ExecuteTime": {
     "end_time": "2024-01-12T09:51:28.367662800Z",
     "start_time": "2024-01-12T09:51:17.333619800Z"
    }
   },
   "id": "85bd552f73e7cca4"
  },
  {
   "cell_type": "code",
   "execution_count": null,
   "outputs": [],
   "source": [],
   "metadata": {
    "collapsed": false
   },
   "id": "55aafad82f8da19d"
  }
 ],
 "metadata": {
  "kernelspec": {
   "display_name": "Python 3",
   "language": "python",
   "name": "python3"
  },
  "language_info": {
   "codemirror_mode": {
    "name": "ipython",
    "version": 2
   },
   "file_extension": ".py",
   "mimetype": "text/x-python",
   "name": "python",
   "nbconvert_exporter": "python",
   "pygments_lexer": "ipython2",
   "version": "2.7.6"
  }
 },
 "nbformat": 4,
 "nbformat_minor": 5
}
