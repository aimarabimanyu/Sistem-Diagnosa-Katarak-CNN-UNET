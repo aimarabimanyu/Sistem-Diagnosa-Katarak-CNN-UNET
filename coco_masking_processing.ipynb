{
 "cells": [
  {
   "cell_type": "markdown",
   "source": [
    "### Import Library"
   ],
   "metadata": {
    "collapsed": false
   },
   "id": "b0bad6c1f5b665c2"
  },
  {
   "cell_type": "code",
   "execution_count": 1,
   "id": "initial_id",
   "metadata": {
    "collapsed": true,
    "ExecuteTime": {
     "end_time": "2023-10-25T03:46:35.802109300Z",
     "start_time": "2023-10-25T03:46:35.600019Z"
    }
   },
   "outputs": [],
   "source": [
    "import numpy as np\n",
    "import cv2\n",
    "import json"
   ]
  },
  {
   "cell_type": "markdown",
   "source": [
    "### Load Iris Needle Dataset Mask"
   ],
   "metadata": {
    "collapsed": false
   },
   "id": "9f4f63020b26d635"
  },
  {
   "cell_type": "code",
   "execution_count": null,
   "outputs": [],
   "source": [
    "# Load COCO File Path\n",
    "f = open('dataset/iris_neddle_raw_dataset/train_annotations.coco.json', 'r')\n",
    "data = json.load(f)"
   ],
   "metadata": {
    "collapsed": false
   },
   "id": "e0c90c7741edfb51"
  },
  {
   "cell_type": "code",
   "execution_count": null,
   "outputs": [],
   "source": [
    "# Define Mask Directory\n",
    "mask_dir = 'dataset/iris_needle_seg_dataset/mask/'"
   ],
   "metadata": {
    "collapsed": false
   },
   "id": "f6827cd38b4a9a00"
  },
  {
   "cell_type": "code",
   "execution_count": null,
   "outputs": [],
   "source": [
    "# Processing Mask\n",
    "images = data['images']\n",
    "annotations = data['annotations']\n",
    "\n",
    "for image in images:\n",
    "    mask = np.zeros((image['height'], image['width']))\n",
    "    for annotation in annotations:\n",
    "        if annotation['image_id'] == image['id']:\n",
    "            seg = annotation['segmentation']\n",
    "            seg = np.array(seg).reshape((-1, 1, 2)).astype(np.int32)\n",
    "            cv2.fillPoly(mask, [seg], 255)\n",
    "    cv2.imwrite(mask_dir + image['file_name'], mask)\n",
    "    print(image['file_name'])"
   ],
   "metadata": {
    "collapsed": false
   },
   "id": "731edf8019fa06af"
  },
  {
   "cell_type": "markdown",
   "source": [
    "### Load Cataract Dataset Mask"
   ],
   "metadata": {
    "collapsed": false
   },
   "id": "91fbea4a419b6804"
  },
  {
   "cell_type": "code",
   "execution_count": 2,
   "outputs": [],
   "source": [
    "# Load COCO File Path\n",
    "f = open('dataset/cataract_seg_dataset/cataract_annotations.coco.json', 'r')\n",
    "data = json.load(f)"
   ],
   "metadata": {
    "collapsed": false,
    "ExecuteTime": {
     "end_time": "2023-10-25T03:46:39.615906700Z",
     "start_time": "2023-10-25T03:46:39.592889200Z"
    }
   },
   "id": "4ccf2ec16f06cba7"
  },
  {
   "cell_type": "code",
   "execution_count": 5,
   "outputs": [],
   "source": [
    "# Define Mask Directory\n",
    "mask_dir = 'dataset/cataract_seg_dataset/mask/'"
   ],
   "metadata": {
    "collapsed": false,
    "ExecuteTime": {
     "end_time": "2023-10-25T03:47:21.202343500Z",
     "start_time": "2023-10-25T03:47:21.102504100Z"
    }
   },
   "id": "1cfb903976637fb2"
  },
  {
   "cell_type": "code",
   "execution_count": 6,
   "outputs": [
    {
     "name": "stdout",
     "output_type": "stream",
     "text": [
      "normal_1.JPG\n",
      "normal_10.JPG\n",
      "normal_100.png\n",
      "normal_101.png\n",
      "normal_102.png\n",
      "normal_103.png\n",
      "normal_104.png\n",
      "normal_105.png\n",
      "normal_106.png\n",
      "normal_107.png\n",
      "normal_108.png\n",
      "normal_109.png\n",
      "normal_11.JPG\n",
      "normal_110.png\n",
      "normal_111.png\n",
      "normal_112.png\n",
      "normal_113.JPG\n",
      "normal_114.JPG\n",
      "normal_115.JPG\n",
      "normal_116.JPG\n",
      "normal_117.JPG\n",
      "normal_118.JPG\n",
      "normal_119.JPG\n",
      "normal_12.JPG\n",
      "normal_120.JPG\n",
      "normal_121.JPG\n",
      "normal_122.JPG\n",
      "normal_123.JPG\n",
      "normal_124.JPG\n",
      "normal_125.JPG\n",
      "normal_126.JPG\n",
      "normal_127.JPG\n",
      "normal_128.JPG\n",
      "normal_129.JPG\n",
      "normal_13.JPG\n",
      "normal_130.JPG\n",
      "normal_131.JPG\n",
      "normal_133.JPG\n",
      "normal_132.JPG\n",
      "normal_134.JPG\n",
      "normal_135.JPG\n",
      "normal_136.JPG\n",
      "normal_137.JPG\n",
      "normal_138.JPG\n",
      "normal_139.JPG\n",
      "normal_14.JPG\n",
      "normal_140.JPG\n",
      "normal_141.JPG\n",
      "normal_142.JPG\n",
      "normal_143.JPG\n",
      "normal_144.JPG\n",
      "normal_145.JPG\n",
      "normal_146.JPG\n",
      "normal_147.JPG\n",
      "normal_148.JPG\n",
      "normal_149.JPG\n",
      "normal_15.JPG\n",
      "normal_150.JPG\n",
      "normal_151.JPG\n",
      "normal_152.JPG\n",
      "normal_153.JPG\n",
      "normal_154.JPG\n",
      "normal_156.JPG\n",
      "normal_155.JPG\n",
      "normal_157.JPG\n",
      "normal_158.JPG\n",
      "normal_159.JPG\n",
      "normal_16.JPG\n",
      "normal_160.JPG\n",
      "normal_161.JPG\n",
      "normal_162.JPG\n",
      "normal_163.JPG\n",
      "normal_164.JPG\n",
      "normal_165.JPG\n",
      "normal_166.JPG\n",
      "normal_18.JPG\n",
      "normal_17.JPG\n",
      "normal_19.JPG\n",
      "normal_2.JPG\n",
      "normal_20.JPG\n",
      "normal_21.JPG\n",
      "normal_22.JPG\n",
      "normal_23.JPG\n",
      "normal_24.JPG\n",
      "normal_25.JPG\n",
      "normal_26.JPG\n",
      "normal_28.JPG\n",
      "normal_27.JPG\n",
      "normal_29.JPG\n",
      "normal_3.JPG\n",
      "normal_30.JPG\n",
      "normal_31.JPG\n",
      "normal_34.JPG\n",
      "normal_32.JPG\n",
      "normal_33.JPG\n",
      "normal_35.JPG\n",
      "normal_36.JPG\n",
      "normal_37.JPG\n",
      "normal_38.JPG\n",
      "normal_39.JPG\n",
      "normal_4.JPG\n",
      "normal_40.JPG\n",
      "normal_41.JPG\n",
      "normal_42.JPG\n",
      "normal_43.JPG\n",
      "normal_44.JPG\n",
      "normal_45.JPG\n",
      "normal_46.JPG\n",
      "normal_47.JPG\n",
      "normal_48.JPG\n",
      "normal_49.png\n",
      "normal_5.JPG\n",
      "normal_50.png\n",
      "normal_51.png\n",
      "normal_52.png\n",
      "normal_53.png\n",
      "normal_54.png\n",
      "normal_55.png\n",
      "normal_56.png\n",
      "normal_57.png\n",
      "normal_58.png\n",
      "normal_59.png\n",
      "normal_6.JPG\n",
      "normal_60.png\n",
      "normal_61.png\n",
      "normal_62.png\n",
      "normal_63.png\n",
      "normal_64.png\n",
      "normal_65.png\n",
      "normal_66.png\n",
      "normal_67.png\n",
      "normal_68.png\n",
      "normal_69.png\n",
      "normal_7.JPG\n",
      "normal_70.png\n",
      "normal_71.png\n",
      "normal_72.png\n",
      "normal_73.png\n",
      "normal_74.png\n",
      "normal_75.png\n",
      "normal_76.png\n",
      "normal_77.png\n",
      "normal_78.png\n",
      "normal_79.png\n",
      "normal_8.JPG\n",
      "normal_80.png\n",
      "normal_81.png\n",
      "normal_82.png\n",
      "normal_83.png\n",
      "normal_84.png\n",
      "normal_85.png\n",
      "normal_86.png\n",
      "normal_87.png\n",
      "normal_88.png\n",
      "normal_89.png\n",
      "normal_9.JPG\n",
      "normal_90.png\n",
      "normal_91.png\n",
      "normal_92.png\n",
      "normal_93.png\n",
      "normal_94.png\n",
      "normal_95.png\n",
      "normal_96.png\n",
      "normal_97.png\n",
      "normal_98.png\n",
      "normal_99.png\n"
     ]
    }
   ],
   "source": [
    "# Processing Mask\n",
    "images = data['images']\n",
    "annotations = data['annotations']\n",
    "\n",
    "for image in images:\n",
    "    mask = np.zeros((image['height'], image['width']))\n",
    "    for annotation in annotations:\n",
    "        if annotation['image_id'] == image['id']:\n",
    "            seg = annotation['segmentation']\n",
    "            seg = np.array(seg).reshape((-1, 1, 2)).astype(np.int32)\n",
    "            cv2.fillPoly(mask, [seg], 255)\n",
    "    cv2.imwrite(mask_dir + image['file_name'], mask)\n",
    "    print(image['file_name'])"
   ],
   "metadata": {
    "collapsed": false,
    "ExecuteTime": {
     "end_time": "2023-10-25T03:47:22.161565200Z",
     "start_time": "2023-10-25T03:47:21.825274700Z"
    }
   },
   "id": "eea4bffbbe40ca2f"
  },
  {
   "cell_type": "code",
   "execution_count": null,
   "outputs": [],
   "source": [],
   "metadata": {
    "collapsed": false
   },
   "id": "ef16a933311dac54"
  }
 ],
 "metadata": {
  "kernelspec": {
   "display_name": "Python 3",
   "language": "python",
   "name": "python3"
  },
  "language_info": {
   "codemirror_mode": {
    "name": "ipython",
    "version": 2
   },
   "file_extension": ".py",
   "mimetype": "text/x-python",
   "name": "python",
   "nbconvert_exporter": "python",
   "pygments_lexer": "ipython2",
   "version": "2.7.6"
  }
 },
 "nbformat": 4,
 "nbformat_minor": 5
}
