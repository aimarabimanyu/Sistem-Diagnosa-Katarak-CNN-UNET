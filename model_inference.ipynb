{
 "cells": [
  {
   "cell_type": "markdown",
   "source": [
    "# Model Inference"
   ],
   "metadata": {
    "collapsed": false,
    "id": "e1afb23def79d5df"
   },
   "id": "e1afb23def79d5df"
  },
  {
   "cell_type": "markdown",
   "source": [
    "## Prepare Library, Parameters, and Dependencies"
   ],
   "metadata": {
    "collapsed": false,
    "id": "1e4deb01cfb432b2"
   },
   "id": "1e4deb01cfb432b2"
  },
  {
   "cell_type": "code",
   "execution_count": 20,
   "id": "initial_id",
   "metadata": {
    "collapsed": true,
    "id": "initial_id",
    "ExecuteTime": {
     "end_time": "2023-11-03T03:55:14.325413100Z",
     "start_time": "2023-11-03T03:55:14.273288200Z"
    }
   },
   "outputs": [],
   "source": [
    "import tensorflow as tf\n",
    "import cv2\n",
    "import numpy as np\n",
    "from PIL import Image"
   ]
  },
  {
   "cell_type": "code",
   "execution_count": 21,
   "outputs": [],
   "source": [
    "# UNCOMMENT THIS IF YOU USE GOOGLE COLAB\n",
    "\n",
    "# from google.colab import drive\n",
    "# drive.mount('/content/drive')"
   ],
   "metadata": {
    "collapsed": false
   },
   "id": "5f6925ea3194e89e"
  },
  {
   "cell_type": "code",
   "execution_count": 22,
   "outputs": [
    {
     "name": "stdout",
     "output_type": "stream",
     "text": [
      "2.14.0\n",
      "Num GPUs Available:  0\n"
     ]
    }
   ],
   "source": [
    "# Check TensorFlow Version and GPU Availability\n",
    "print(tf.__version__)\n",
    "print(\"Num GPUs Available: \", len(tf.config.experimental.list_physical_devices('GPU')))"
   ],
   "metadata": {
    "collapsed": false
   },
   "id": "9e2bc93a16010ce1"
  },
  {
   "cell_type": "code",
   "execution_count": null,
   "outputs": [],
   "source": [
    "# Set Parameters\n",
    "SEGMENTATION_MODEL_PATH = \"models/segmentation_model_1/tflite/model.tflite\"\n",
    "CLASSIFICATION_MODEL_PATH = \"models/classification_model_1/tflite/model.tflite\"\n",
    "TEST_PREDICT_DIR = 'datasets/test_predict'"
   ],
   "metadata": {
    "collapsed": false
   },
   "id": "414de36dc5c6842c"
  },
  {
   "cell_type": "markdown",
   "source": [
    "## Load TFLite Model and Predict Image Path"
   ],
   "metadata": {
    "collapsed": false
   },
   "id": "badb194b72a848bf"
  },
  {
   "cell_type": "code",
   "execution_count": null,
   "outputs": [],
   "source": [
    "# Load TF Lite model\n",
    "interpreter_segmentation = tf.lite.Interpreter(SEGMENTATION_MODEL_PATH)\n",
    "interpreter_classification = tf.lite.Interpreter(CLASSIFICATION_MODEL_PATH)"
   ],
   "metadata": {
    "collapsed": false
   },
   "id": "8bb05982bfe13dc9"
  },
  {
   "cell_type": "code",
   "execution_count": null,
   "outputs": [],
   "source": [
    "# Load Predict Image Path\n",
    "image_path = []\n",
    "for root, dirs, files in os.walk(TEST_PREDICT_DIR):\n",
    "    for file in files:\n",
    "        path_og = os.path.join(root,file)\n",
    "        image_path.append(path_og)"
   ],
   "metadata": {
    "collapsed": false
   },
   "id": "759c1dc69049389c"
  },
  {
   "cell_type": "markdown",
   "source": [
    "## Run Inference"
   ],
   "metadata": {
    "collapsed": false
   },
   "id": "3553374eeb5ce2fc"
  },
  {
   "cell_type": "code",
   "execution_count": null,
   "outputs": [],
   "source": [
    "# Allocate Tensors for Input and Output of Model\n",
    "interpreter_segmentation.allocate_tensors()\n",
    "interpreter_classification.allocate_tensors()"
   ],
   "metadata": {
    "collapsed": false
   },
   "id": "b7ca2582e4cd511"
  },
  {
   "cell_type": "code",
   "execution_count": null,
   "outputs": [],
   "source": [
    "# Get Height and Width of Input Image\n",
    "_, height, width, _ = interpreter_segmentation.get_input_details()[0]['shape']"
   ],
   "metadata": {
    "collapsed": false
   },
   "id": "40f821754abc2ec9"
  },
  {
   "cell_type": "code",
   "execution_count": null,
   "outputs": [],
   "source": [
    "# Run Inference for Each Image\n",
    "for path in image_path:\n",
    "    # Load Image from Path and Resize\n",
    "    image = cv2.imread(image, cv2.IMREAD_GRAYSCALE)\n",
    "    image = cv2.resize(image, (width, height)\n",
    "    \n",
    "    # Preprocess Image\n",
    "    input_image = np.expand_dims(np.array(image), axis=0)\n",
    "    \n",
    "    # Set Input and Invoke Model\n",
    "    interpreter_segmentation.set_tensor(interpreter_segmentation.get_input_details()[0]['index'], input_image)\n",
    "    interpreter_segmentation.invoke()\n",
    "    \n",
    "    # Get Output\n",
    "    output_segmentation = interpreter_segmentation.get_tensor(interpreter_segmentation.get_output_details()[0]['index'])\n",
    "    \n",
    "    # Get Mask\n",
    "    mask = np.argmax(output_segmentation[0], axis=-1)\n",
    "    mask = np.expand_dims(mask, axis=-1)\n",
    "    \n",
    "    # Get Image with Mask\n",
    "    image_with_mask = np.array(image)\n",
    "    image_with_mask[mask == 0] = 0\n",
    "    \n",
    "    # Preprocess Image with Mask\n",
    "    input_image_with_mask = np.expand_dims(np.array(image_with_mask), axis=0)\n",
    "    \n",
    "    # Set Input and Invoke Model\n",
    "    interpreter_classification.set_tensor(interpreter_classification.get_input_details()[0]['index'], input_image_with_mask)\n",
    "    interpreter_classification.invoke()\n",
    "    \n",
    "    # Get Output\n",
    "    output_classification = interpreter_classification.get_tensor(interpreter_classification.get_output_details()[0]['index'])\n",
    "    \n",
    "    # Get Prediction\n",
    "    prediction = np.argmax(output_classification[0], axis=-1)\n",
    "    \n",
    "    # Save Prediction\n",
    "    if prediction == 0:\n",
    "        prediction = ''\n",
    "    elif prediction == 1:\n",
    "        prediction = 'normal'\n",
    "    elif prediction == 2:\n",
    "        prediction = 'viral'\n",
    "        \n",
    "    # Save Image with Mask\n",
    "    image_with_mask = Image.fromarray(image_with_mask)\n",
    "    image_with_mask.save(path.replace('test_predict', 'test_predict_with_mask'))\n",
    "    \n",
    "    # Save Prediction\n",
    "    with open(path.replace('test_predict', 'test_predict_with_mask').replace('.jpg', '.txt'), 'w') as f:\n",
    "        f.write(prediction)"
   ],
   "metadata": {
    "collapsed": false
   },
   "id": "c92db9833ee20aa7"
  }
 ],
 "metadata": {
  "kernelspec": {
   "name": "python3",
   "language": "python",
   "display_name": "Python 3 (ipykernel)"
  },
  "language_info": {
   "codemirror_mode": {
    "name": "ipython",
    "version": 2
   },
   "file_extension": ".py",
   "mimetype": "text/x-python",
   "name": "python",
   "nbconvert_exporter": "python",
   "pygments_lexer": "ipython2",
   "version": "2.7.6"
  },
  "colab": {
   "provenance": [],
   "machine_shape": "hm",
   "gpuType": "T4"
  },
  "accelerator": "GPU"
 },
 "nbformat": 4,
 "nbformat_minor": 5
}
