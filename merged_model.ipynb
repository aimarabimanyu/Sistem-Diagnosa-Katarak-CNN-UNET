{
 "cells": [
  {
   "cell_type": "markdown",
   "source": [
    "# MERGED MODEL"
   ],
   "metadata": {
    "collapsed": false,
    "id": "e1afb23def79d5df"
   },
   "id": "e1afb23def79d5df"
  },
  {
   "cell_type": "markdown",
   "source": [
    "## Prepare Library, Parameters, and Dependencies for Segmentation and Classification"
   ],
   "metadata": {
    "collapsed": false,
    "id": "1e4deb01cfb432b2"
   },
   "id": "1e4deb01cfb432b2"
  },
  {
   "cell_type": "code",
   "execution_count": 20,
   "id": "initial_id",
   "metadata": {
    "collapsed": true,
    "id": "initial_id",
    "ExecuteTime": {
     "end_time": "2023-11-03T03:55:14.325413100Z",
     "start_time": "2023-11-03T03:55:14.273288200Z"
    }
   },
   "outputs": [],
   "source": [
    "import tensorflow as tf\n",
    "from tensorflow import keras\n",
    "from sklearn.metrics import confusion_matrix\n",
    "from sklearn.model_selection import train_test_split\n",
    "import cv2\n",
    "import numpy as np\n",
    "import matplotlib as mpl\n",
    "import matplotlib.pyplot as plt\n",
    "import itertools\n",
    "import os\n",
    "from tqdm import tqdm"
   ]
  },
  {
   "cell_type": "code",
   "execution_count": 21,
   "outputs": [],
   "source": [
    "# UNCOMMENT THIS IF YOU USE GOOGLE COLAB\n",
    "\n",
    "# from google.colab import drive\n",
    "# drive.mount('/content/drive')"
   ],
   "metadata": {
    "colab": {
     "base_uri": "https://localhost:8080/"
    },
    "id": "5f6925ea3194e89e",
    "outputId": "4c31aea9-2892-4ff0-aeaf-b5fca41c8779",
    "ExecuteTime": {
     "end_time": "2023-11-03T03:55:14.887588100Z",
     "start_time": "2023-11-03T03:55:14.823625Z"
    }
   },
   "id": "5f6925ea3194e89e"
  },
  {
   "cell_type": "code",
   "execution_count": 22,
   "outputs": [
    {
     "name": "stdout",
     "output_type": "stream",
     "text": [
      "2.14.0\n",
      "Num GPUs Available:  0\n"
     ]
    }
   ],
   "source": [
    "print(tf.__version__)\n",
    "print(\"Num GPUs Available: \", len(tf.config.experimental.list_physical_devices('GPU')))"
   ],
   "metadata": {
    "colab": {
     "base_uri": "https://localhost:8080/"
    },
    "id": "9e2bc93a16010ce1",
    "outputId": "a7891480-bb21-4933-a2a3-b41bd7ef144b",
    "ExecuteTime": {
     "end_time": "2023-11-03T03:55:15.682266300Z",
     "start_time": "2023-11-03T03:55:15.506482100Z"
    }
   },
   "id": "9e2bc93a16010ce1"
  },
  {
   "cell_type": "code",
   "execution_count": 23,
   "outputs": [],
   "source": [
    "SEG_DATASET_DIR = \"datasets/segmentation_datasets/iris_needle_seg_dataset_mixed/\"\n",
    "CLASS_DATASET_DIR = \"/content/drive/MyDrive/Skripsi/v_0.0.2/datasets/classification_datasets/cataract_dataset_mixed_blended/\"\n",
    "TEST_PREDICT_DIR = \"/content/drive/MyDrive/Skripsi/v_0.0.2/datasets/test_predict/\"\n",
    "\n",
    "BATCH_SIZE_SEG = 8\n",
    "VAL_RATIO_SEG = 0.2\n",
    "SHUFFLE_BUFFER_SIZE_SEG = 10000\n",
    "\n",
    "BATCH_SIZE_CLASS = 16\n",
    "VAL_RATIO_CLASS = 0.3\n",
    "SHUFFLE_BUFFER_SIZE_CLASS = 1100\n",
    "\n",
    "IMG_HEIGHT = 128\n",
    "IMG_WIDTH = 128\n",
    "\n",
    "SHUFFLE_VALUE = True\n",
    "AUTOTUNE = tf.data.AUTOTUNE"
   ],
   "metadata": {
    "id": "bc3daedcce223234",
    "ExecuteTime": {
     "end_time": "2023-11-03T03:55:16.412251400Z",
     "start_time": "2023-11-03T03:55:16.287409600Z"
    }
   },
   "id": "bc3daedcce223234"
  },
  {
   "cell_type": "markdown",
   "source": [
    "## Preparing and Preprocessing Segmentation Dataset"
   ],
   "metadata": {
    "collapsed": false,
    "id": "badb194b72a848bf"
   },
   "id": "badb194b72a848bf"
  },
  {
   "cell_type": "markdown",
   "source": [
    "#### Load Segmentation Dataset"
   ],
   "metadata": {
    "collapsed": false,
    "id": "5c65dfb6f41f652"
   },
   "id": "5c65dfb6f41f652"
  },
  {
   "cell_type": "code",
   "execution_count": 24,
   "outputs": [],
   "source": [
    "# USE THIS IF YOU USE LOCAL MACHINE\n",
    "\n",
    "# # Load OG Image Path\n",
    "# image_path = []\n",
    "# for root, dirs, files in os.walk(SEG_DATASET_DIR + \"train_original/\"):\n",
    "#     for file in tqdm(files):\n",
    "#         if file.endswith(\".jpg\"):\n",
    "#              image_path.append(os.path.join(root, file))\n",
    "#\n",
    "# # Load Mask Image Path\n",
    "# mask_path = []\n",
    "# for root, dirs, files in os.walk(SEG_DATASET_DIR + \"train_mask/\"):\n",
    "#     for file in tqdm(files):\n",
    "#         if file.endswith(\".jpg\"):\n",
    "#              mask_path.append(os.path.join(root, file))\n",
    "#\n",
    "# # Verify Length and Consistency OG and Mask Image\n",
    "# print(len(image_path))\n",
    "# print(image_path[1])\n",
    "#\n",
    "# print(len(mask_path))\n",
    "# print(mask_path[1])"
   ],
   "metadata": {
    "id": "fceae1f3760497a0",
    "ExecuteTime": {
     "end_time": "2023-11-03T03:55:18.622689100Z",
     "start_time": "2023-11-03T03:55:18.496955600Z"
    }
   },
   "id": "fceae1f3760497a0"
  },
  {
   "cell_type": "code",
   "execution_count": 25,
   "outputs": [
    {
     "name": "stderr",
     "output_type": "stream",
     "text": [
      "100%|██████████| 1476/1476 [00:00<00:00, 101165.01it/s]"
     ]
    },
    {
     "name": "stdout",
     "output_type": "stream",
     "text": [
      "1476\n",
      "datasets/segmentation_datasets/iris_needle_seg_dataset_mixed/train_original/mild_10.jpg\n",
      "1476\n",
      "datasets/segmentation_datasets/iris_needle_seg_dataset_mixed/train_mask/mild_10.jpg\n"
     ]
    },
    {
     "name": "stderr",
     "output_type": "stream",
     "text": [
      "\n"
     ]
    }
   ],
   "source": [
    "# USE THIS IF YOU USE GOOGLE COLAB\n",
    "\n",
    "# Load OG Image and Mask Image Path\n",
    "image_path = []\n",
    "mask_path = []\n",
    "for root, dirs, files in os.walk(SEG_DATASET_DIR + \"train_original/\"):\n",
    "    for file in tqdm(files):\n",
    "        path_og = os.path.join(root,file)\n",
    "        path_mask = os.path.join(SEG_DATASET_DIR + \"train_mask/\", file)\n",
    "        image_path.append(path_og)\n",
    "        mask_path.append(path_mask)\n",
    "\n",
    "# Verify Length and Consistency OG and Mask Image\n",
    "print(len(image_path))\n",
    "print(image_path[1])\n",
    "\n",
    "print(len(mask_path))\n",
    "print(mask_path[1])"
   ],
   "metadata": {
    "colab": {
     "base_uri": "https://localhost:8080/"
    },
    "id": "ce5865bc90ec4aea",
    "outputId": "310f5e49-9189-414f-da1e-029c1fc671b4",
    "ExecuteTime": {
     "end_time": "2023-11-03T03:55:19.460492900Z",
     "start_time": "2023-11-03T03:55:19.314872500Z"
    }
   },
   "id": "ce5865bc90ec4aea"
  },
  {
   "cell_type": "markdown",
   "source": [
    "#### Decode Segmentation Dataset Into Array"
   ],
   "metadata": {
    "collapsed": false,
    "id": "1a192469f37eb6c"
   },
   "id": "1a192469f37eb6c"
  },
  {
   "cell_type": "code",
   "execution_count": 26,
   "outputs": [
    {
     "name": "stderr",
     "output_type": "stream",
     "text": [
      "100%|██████████| 1476/1476 [00:02<00:00, 552.67it/s]\n",
      "100%|██████████| 1476/1476 [00:03<00:00, 390.60it/s]\n"
     ]
    }
   ],
   "source": [
    "# Decode Mask Image\n",
    "masks = []\n",
    "for path in tqdm(mask_path):\n",
    "    mask = tf.io.read_file(path)\n",
    "    mask_array = tf.image.decode_jpeg(mask, channels=1)\n",
    "    masks.append(mask_array)\n",
    "\n",
    "# Decode OG Image\n",
    "images = []\n",
    "for path in tqdm(image_path):\n",
    "    img = tf.io.read_file(path)\n",
    "    img_array = tf.image.decode_jpeg(img, channels=3)\n",
    "    images.append(img_array)"
   ],
   "metadata": {
    "colab": {
     "base_uri": "https://localhost:8080/"
    },
    "id": "22257169237cc5b6",
    "outputId": "b003ed0c-a78b-4316-fd3d-a5f431340b87",
    "ExecuteTime": {
     "end_time": "2023-11-03T03:55:27.809193300Z",
     "start_time": "2023-11-03T03:55:21.017902700Z"
    }
   },
   "id": "22257169237cc5b6"
  },
  {
   "cell_type": "markdown",
   "source": [
    "#### Resize Segmentation Dataset"
   ],
   "metadata": {
    "collapsed": false,
    "id": "7e87c7df31409995"
   },
   "id": "7e87c7df31409995"
  },
  {
   "cell_type": "code",
   "execution_count": 27,
   "outputs": [],
   "source": [
    "# Resize Function for OG Image\n",
    "def resize_image(image):\n",
    "    image = tf.cast(image, dtype=tf.float32)\n",
    "    image = image/255.0\n",
    "    image = tf.image.resize(image, (IMG_HEIGHT, IMG_WIDTH))\n",
    "    return image\n",
    "\n",
    "# Resize Function for Mask Image\n",
    "def resize_mask(mask):\n",
    "    mask = tf.image.resize(mask, (IMG_HEIGHT, IMG_WIDTH))\n",
    "    mask = tf.cast(mask, dtype=tf.uint8)\n",
    "    return mask\n",
    "\n",
    "# Looping Resize Function for OG and Mask Image Dataset\n",
    "X = [resize_image(image) for image in images]\n",
    "y = [resize_mask(mask) for mask in masks]"
   ],
   "metadata": {
    "id": "3f2ffe12f7637fdc",
    "ExecuteTime": {
     "end_time": "2023-11-03T03:55:37.475590500Z",
     "start_time": "2023-11-03T03:55:28.871398100Z"
    }
   },
   "id": "3f2ffe12f7637fdc"
  },
  {
   "cell_type": "code",
   "execution_count": 28,
   "outputs": [
    {
     "data": {
      "text/plain": "<Figure size 640x480 with 2 Axes>",
      "image/png": "[encoded data removed]"
     },
     "metadata": {},
     "output_type": "display_data"
    },
    {
     "data": {
      "text/plain": "<Figure size 640x480 with 2 Axes>",
      "image/png": "[encoded data removed]"
     },
     "metadata": {},
     "output_type": "display_data"
    }
   ],
   "source": [
    "# Visualizing a Resized Image and Respective Mask\n",
    "\n",
    "# Plot an OG Image\n",
    "plt.imshow(X[36])\n",
    "plt.colorbar()\n",
    "plt.show()\n",
    "\n",
    "# Plot a Mask\n",
    "plt.imshow(y[36], cmap='binary')\n",
    "plt.colorbar()\n",
    "plt.show()"
   ],
   "metadata": {
    "collapsed": false,
    "ExecuteTime": {
     "end_time": "2023-11-03T03:55:41.482284900Z",
     "start_time": "2023-11-03T03:55:40.927200500Z"
    }
   },
   "id": "f0caf8c2c16fb4f2"
  },
  {
   "cell_type": "markdown",
   "source": [
    "#### Grayscaling Segmentation Dataset"
   ],
   "metadata": {
    "collapsed": false
   },
   "id": "6455424bc3e8deb1"
  },
  {
   "cell_type": "code",
   "execution_count": 32,
   "outputs": [],
   "source": [
    "# Function to Convert OG Image to Grayscale\n",
    "def convert_to_grayscale(image):\n",
    "    grayscale_image = tf.image.rgb_to_grayscale(image)\n",
    "    return grayscale_image\n",
    "\n",
    "# Looping Grayscaling Function for OG Image Dataset\n",
    "X = [convert_to_grayscale(image) for image in X]"
   ],
   "metadata": {
    "collapsed": false,
    "ExecuteTime": {
     "end_time": "2023-11-03T03:56:40.848415600Z",
     "start_time": "2023-11-03T03:56:38.906282800Z"
    }
   },
   "id": "7e8388fe39120e6"
  },
  {
   "cell_type": "code",
   "execution_count": null,
   "outputs": [],
   "source": [
    "# Visualizing a Resized Image and Respective Mask\n",
    "\n",
    "# Plot an OG Image\n",
    "plt.imshow(X[36])\n",
    "plt.colorbar()\n",
    "plt.show()\n",
    "\n",
    "# Plot a Mask\n",
    "plt.imshow(y[36], cmap='binary')\n",
    "plt.colorbar()\n",
    "plt.show()"
   ],
   "metadata": {
    "collapsed": false
   },
   "id": "e9459800eb214422"
  },
  {
   "cell_type": "markdown",
   "source": [
    "#### Split Segmentation Dataset and Change Dataset to TensorFlow Dataset"
   ],
   "metadata": {
    "collapsed": false,
    "id": "2baee7ba49abbf0a"
   },
   "id": "2baee7ba49abbf0a"
  },
  {
   "cell_type": "code",
   "execution_count": null,
   "outputs": [],
   "source": [
    "# Split Dataset With 80/20 Ratio\n",
    "X_train, X_val, y_train, y_val = train_test_split(X, y, test_size=VAL_RATIO_SEG, random_state=42)\n",
    "\n",
    "# Change Dataset Into TensorFlow Dataset\n",
    "X_train = tf.data.Dataset.from_tensor_slices(X_train)\n",
    "y_train = tf.data.Dataset.from_tensor_slices(y_train)\n",
    "X_val = tf.data.Dataset.from_tensor_slices(X_val)\n",
    "y_val = tf.data.Dataset.from_tensor_slices(y_val)\n",
    "\n",
    "# Verify the Shapes and Data Types\n",
    "X_train.element_spec, y_train.element_spec, X_val.element_spec, y_val.element_spec"
   ],
   "metadata": {
    "colab": {
     "base_uri": "https://localhost:8080/"
    },
    "id": "6f9b0ce04019fcb8",
    "outputId": "b3856963-6ebd-4fe6-fc78-be1d6f9efa27"
   },
   "id": "6f9b0ce04019fcb8"
  },
  {
   "cell_type": "markdown",
   "source": [
    "#### Segmentation Dataset Augmentation"
   ],
   "metadata": {
    "collapsed": false,
    "id": "f605518dfaf51e47"
   },
   "id": "f605518dfaf51e47"
  },
  {
   "cell_type": "code",
   "execution_count": null,
   "outputs": [],
   "source": [
    "# Augmentation Function\n",
    "def brightness(image, mask):\n",
    "    image = tf.image.adjust_brightness(image, 0.1)\n",
    "    return image, mask\n",
    "\n",
    "def gamma(image, mask):\n",
    "    image = tf.image.adjust_gamma(image, 0.1)\n",
    "    return image, mask\n",
    "\n",
    "def hue(image, mask):\n",
    "    image = tf.image.adjust_hue(image, -0.1)\n",
    "    return image, mask\n",
    "\n",
    "def crop(image, mask):\n",
    "    image = tf.image.central_crop(image, 0.7)\n",
    "    image = tf.image.resize(image, (IMG_HEIGHT, IMG_WIDTH))\n",
    "    mask = tf.image.central_crop(mask, 0.7)\n",
    "    mask = tf.image.resize(mask, (IMG_HEIGHT, IMG_WIDTH))\n",
    "    mask = tf.cast(mask, dtype=tf.uint8)\n",
    "    return image, mask\n",
    "\n",
    "def flip_hori(image, mask):\n",
    "    image = tf.image.flip_left_right(image)\n",
    "    mask = tf.image.flip_left_right(mask)\n",
    "    return image, mask\n",
    "\n",
    "def flip_vert(image, mask):\n",
    "    image = tf.image.flip_up_down(image)\n",
    "    mask = tf.image.flip_up_down(mask)\n",
    "    return image, mask\n",
    "\n",
    "def rotate(image, mask):\n",
    "    image = tf.image.rot90(image)\n",
    "    mask = tf.image.rot90(mask)\n",
    "    return image, mask"
   ],
   "metadata": {
    "id": "af19a383ba3dfd3d"
   },
   "id": "af19a383ba3dfd3d"
  },
  {
   "cell_type": "code",
   "execution_count": null,
   "outputs": [],
   "source": [
    "# Zip Dataset\n",
    "train = tf.data.Dataset.zip((X_train, y_train))\n",
    "val = tf.data.Dataset.zip((X_val, y_val))\n",
    "\n",
    "# Perform Data Augmentation\n",
    "train = train.concatenate(train.map(brightness))\n",
    "train = train.concatenate(train.map(gamma))\n",
    "train = train.concatenate(train.map(hue))\n",
    "train = train.concatenate(train.map(crop))\n",
    "train = train.concatenate(train.map(flip_hori))\n",
    "train = train.concatenate(train.map(flip_vert))\n",
    "train = train.concatenate(train.map(rotate))"
   ],
   "metadata": {
    "id": "7ad811465570c5f"
   },
   "id": "7ad811465570c5f"
  },
  {
   "cell_type": "markdown",
   "source": [
    "#### Segmentation Dataset Pipelining"
   ],
   "metadata": {
    "collapsed": false,
    "id": "d59638d68aa2d4f8"
   },
   "id": "d59638d68aa2d4f8"
  },
  {
   "cell_type": "code",
   "execution_count": null,
   "outputs": [],
   "source": [
    "train = train.cache().shuffle(SHUFFLE_BUFFER_SIZE_SEG).batch(BATCH_SIZE_SEG).repeat()\n",
    "train = train.prefetch(AUTOTUNE)\n",
    "val = val.batch(BATCH_SIZE_SEG)"
   ],
   "metadata": {
    "id": "e0c792285198ba09"
   },
   "id": "e0c792285198ba09"
  },
  {
   "cell_type": "markdown",
   "source": [
    "## Preparing and Preprocessing Classification Dataset"
   ],
   "metadata": {
    "collapsed": false,
    "id": "47d56d53d1a853d5"
   },
   "id": "47d56d53d1a853d5"
  },
  {
   "cell_type": "markdown",
   "source": [
    "#### Load and Split Classification Dataset"
   ],
   "metadata": {
    "collapsed": false,
    "id": "a5273a38f7f9375e"
   },
   "id": "a5273a38f7f9375e"
  },
  {
   "cell_type": "code",
   "execution_count": null,
   "outputs": [],
   "source": [
    "# Make Train Dataset\n",
    "train_ds = keras.utils.image_dataset_from_directory(\n",
    "    directory=CLASS_DATASET_DIR,\n",
    "    validation_split=VAL_RATIO_CLASS,\n",
    "    subset=\"training\",\n",
    "    seed=123,\n",
    "    image_size=(IMG_HEIGHT, IMG_WIDTH),\n",
    "    batch_size=BATCH_SIZE_CLASS,\n",
    "    shuffle=SHUFFLE_VALUE,\n",
    ")\n",
    "\n",
    "# Make Validation Dataset\n",
    "val_ds = keras.utils.image_dataset_from_directory(\n",
    "    directory=CLASS_DATASET_DIR,\n",
    "    validation_split=VAL_RATIO_CLASS,\n",
    "    subset=\"validation\",\n",
    "    seed=123,\n",
    "    image_size=(IMG_HEIGHT, IMG_WIDTH),\n",
    "    batch_size=BATCH_SIZE_CLASS,\n",
    "    shuffle=SHUFFLE_VALUE,\n",
    ")\n",
    "\n",
    "# Make Test Dataset\n",
    "val_batches = tf.data.experimental.cardinality(val_ds)\n",
    "test_ds = val_ds.take(val_batches // 3)\n",
    "val_ds = val_ds.skip(val_batches // 3)\n",
    "\n",
    "# Print Dataset Information\n",
    "print(f'Number of training batches: {len(np.concatenate([i for x, i in train_ds]))}')\n",
    "print(f'Number of validation batches: {len(np.concatenate([i for x, i in val_ds]))}')\n",
    "print(f'Number of test batches: {len(np.concatenate([i for x, i in test_ds]))}')\n",
    "\n",
    "train_visualize = train_ds"
   ],
   "metadata": {
    "colab": {
     "base_uri": "https://localhost:8080/"
    },
    "id": "3a76d7144cabb84f",
    "outputId": "8af5422f-b242-4ba2-bd92-a59d088ab7a0"
   },
   "id": "3a76d7144cabb84f"
  },
  {
   "cell_type": "markdown",
   "source": [
    "#### Classification Dataset Augmentation"
   ],
   "metadata": {
    "collapsed": false,
    "id": "2132382c18b40796"
   },
   "id": "2132382c18b40796"
  },
  {
   "cell_type": "code",
   "execution_count": null,
   "outputs": [],
   "source": [
    "# Augmentation Sequential\n",
    "data_augmentation = keras.Sequential([\n",
    "    keras.layers.RandomFlip(mode='horizontal'),\n",
    "    keras.layers.RandomRotation(factor=0.4),\n",
    "    keras.layers.RandomZoom(height_factor=0.2, width_factor=0.2),\n",
    "])"
   ],
   "metadata": {
    "id": "50e345001807c88f"
   },
   "id": "50e345001807c88f"
  },
  {
   "cell_type": "markdown",
   "source": [
    "#### Classification Dataset Pipelining"
   ],
   "metadata": {
    "collapsed": false,
    "id": "3d4c82ff38a7775e"
   },
   "id": "3d4c82ff38a7775e"
  },
  {
   "cell_type": "code",
   "execution_count": null,
   "outputs": [],
   "source": [
    "train_ds = train_ds.cache().shuffle(SHUFFLE_BUFFER_SIZE_CLASS)\n",
    "train_ds = train_ds.prefetch(AUTOTUNE)\n",
    "val_ds = val_ds.cache().prefetch(AUTOTUNE)\n",
    "test_ds = test_ds.cache().prefetch(AUTOTUNE)"
   ],
   "metadata": {
    "id": "cfc84af6f316a15"
   },
   "id": "cfc84af6f316a15"
  },
  {
   "cell_type": "markdown",
   "source": [
    "## Visualize All Dataset"
   ],
   "metadata": {
    "collapsed": false,
    "id": "93ea7145fe91d795"
   },
   "id": "93ea7145fe91d795"
  },
  {
   "cell_type": "markdown",
   "source": [
    "#### Visualize Segmentation Dataset"
   ],
   "metadata": {
    "collapsed": false,
    "id": "aad666fcbe5b946a"
   },
   "id": "aad666fcbe5b946a"
  },
  {
   "cell_type": "code",
   "execution_count": null,
   "outputs": [],
   "source": [
    "# Visualize Dataset OG Image\n",
    "plt.figure(figsize=(13, 13))\n",
    "for i in range(9):\n",
    "    ax = plt.subplot(3, 3, i+1)\n",
    "    plt.imshow(images[i])\n",
    "    plt.colorbar()\n",
    "    plt.axis(\"off\")\n",
    "\n",
    "plt.show()"
   ],
   "metadata": {
    "colab": {
     "base_uri": "https://localhost:8080/",
     "height": 0
    },
    "id": "165b2daa0c8cf3be",
    "outputId": "7abfe2d1-2f50-4864-fb89-fd1780ec2479"
   },
   "id": "165b2daa0c8cf3be"
  },
  {
   "cell_type": "code",
   "execution_count": null,
   "outputs": [],
   "source": [
    "# Normalize Color Map for Mask Image\n",
    "NORM = mpl.colors.Normalize(vmin=0, vmax=1)\n",
    "\n",
    "# Visualize Dataset Mask Image\n",
    "plt.figure(figsize=(13, 13))\n",
    "for i in range(9):\n",
    "    ax = plt.subplot(3, 3, i+1)\n",
    "    plt.imshow(masks[i], cmap='binary', norm=NORM)\n",
    "    plt.colorbar()\n",
    "    plt.axis(\"off\")\n",
    "\n",
    "plt.show()"
   ],
   "metadata": {
    "colab": {
     "base_uri": "https://localhost:8080/",
     "height": 0
    },
    "id": "317762b1101dfdfb",
    "outputId": "f40d553f-992f-43cb-b6be-b06058923365"
   },
   "id": "317762b1101dfdfb"
  },
  {
   "cell_type": "markdown",
   "source": [
    "#### Visualize Classification Dataset"
   ],
   "metadata": {
    "collapsed": false,
    "id": "30c368d189cdd870"
   },
   "id": "30c368d189cdd870"
  },
  {
   "cell_type": "code",
   "execution_count": null,
   "outputs": [],
   "source": [
    "# Return Class Names from Dataset\n",
    "class_names = train_visualize.class_names\n",
    "print(class_names)\n",
    "\n",
    "# Visualize Classification Dataset\n",
    "plt.figure(figsize=(10, 10))\n",
    "for images, labels in train_ds.take(1):\n",
    "    for i in range(BATCH_SIZE_CLASS):\n",
    "        ax = plt.subplot(4, 4, i+1)\n",
    "        plt.imshow(images[i].numpy().astype(\"uint8\"))\n",
    "        plt.title(class_names[labels[i]])\n",
    "        plt.axis(\"off\")"
   ],
   "metadata": {
    "colab": {
     "base_uri": "https://localhost:8080/",
     "height": 0
    },
    "id": "a6b8e2f49eeea686",
    "outputId": "0806b3bc-8e01-4a10-b3e8-248b8c906767"
   },
   "id": "a6b8e2f49eeea686"
  },
  {
   "cell_type": "markdown",
   "source": [
    "## Callbacks"
   ],
   "metadata": {
    "collapsed": false,
    "id": "c15bf05984757840"
   },
   "id": "c15bf05984757840"
  },
  {
   "cell_type": "code",
   "execution_count": null,
   "outputs": [],
   "source": [
    "class myCallback(tf.keras.callbacks.Callback):\n",
    "        # Define the correct function signature for on_epoch_end\n",
    "        def on_epoch_end(self, epoch, logs={}):\n",
    "            if logs.get('val_loss') is not None and logs.get('val_loss') < 0.35:\n",
    "                print(\"\\nReached <0.3 val_loss so cancelling training!\")\n",
    "\n",
    "                # Stop training once the above condition is met\n",
    "                self.model.stop_training = True\n",
    "\n",
    "# Initialize Callbacks Class\n",
    "callback = myCallback()"
   ],
   "metadata": {
    "id": "980783d4a0464a4d"
   },
   "id": "980783d4a0464a4d"
  },
  {
   "cell_type": "markdown",
   "source": [
    "## Build Segmentation Model"
   ],
   "metadata": {
    "collapsed": false,
    "id": "6c01446ba76e02f7"
   },
   "id": "6c01446ba76e02f7"
  },
  {
   "cell_type": "markdown",
   "source": [
    "#### Build U-Net Architecture"
   ],
   "metadata": {
    "collapsed": false,
    "id": "11012ce1bbe4f977"
   },
   "id": "11012ce1bbe4f977"
  },
  {
   "cell_type": "code",
   "execution_count": null,
   "outputs": [],
   "source": [
    "# Encoder Block for Contracting Path in U-Net Architecture\n",
    "def EncoderBlock(input_layer, n_filter, kernel_size=(3,3), kernel_initializer='he_normal', dropout_prob=0.1, max_pooling=True):\n",
    "    x = keras.layers.Conv2D(n_filter, kernel_size, activation='relu', kernel_initializer=kernel_initializer, padding='same')(input_layer)\n",
    "\n",
    "    if dropout_prob > 0:\n",
    "        x = keras.layers.Dropout(dropout_prob)(x)\n",
    "\n",
    "    x = keras.layers.Conv2D(n_filter, kernel_size, activation='relu', kernel_initializer=kernel_initializer, padding='same')(x)\n",
    "\n",
    "    if max_pooling:\n",
    "        next_layer = keras.layers.MaxPooling2D((2,2))(x)\n",
    "    else:\n",
    "        next_layer = x\n",
    "\n",
    "    skip_connection = x\n",
    "\n",
    "    return next_layer, skip_connection\n",
    "\n",
    "# Decoder Block for Expansive Path in U-Net Architecture\n",
    "def DecoderBlock(input_layer, skip_layer, n_filter, kernel_size=(2,2), kernel_initializer='he_normal', dropout_prob=0.1):\n",
    "    x = keras.layers.Conv2DTranspose(n_filter, kernel_size, strides=(2,2), padding='same')(input_layer)\n",
    "    x = keras.layers.concatenate([x, skip_layer])\n",
    "    x = keras.layers.Conv2D(n_filter, kernel_size, activation='relu', kernel_initializer=kernel_initializer, padding='same')(x)\n",
    "\n",
    "    if dropout_prob > 0:\n",
    "        x = keras.layers.Dropout(dropout_prob)(x)\n",
    "\n",
    "    next_layer = keras.layers.Conv2D(n_filter, kernel_size, activation='relu', kernel_initializer=kernel_initializer, padding='same')(x)\n",
    "\n",
    "    return next_layer"
   ],
   "metadata": {
    "id": "1ff0c315e4ef8a80"
   },
   "id": "1ff0c315e4ef8a80"
  },
  {
   "cell_type": "code",
   "execution_count": null,
   "outputs": [],
   "source": [
    "# Input Layer\n",
    "input_layer = keras.layers.Input((IMG_HEIGHT, IMG_WIDTH, 3), name=\"input_image\")\n",
    "\n",
    "# Build Contraction Path\n",
    "c1, s1 = EncoderBlock(input_layer, 16)\n",
    "c2, s2 = EncoderBlock(c1, 32)\n",
    "c3, s3 = EncoderBlock(c2, 64)\n",
    "c4, s4 = EncoderBlock(c3, 128)\n",
    "c5, _ = EncoderBlock(c4, 256, max_pooling=False)\n",
    "\n",
    "# Build Expansive Path\n",
    "e1 = DecoderBlock(c5, s4, 128)\n",
    "e2 = DecoderBlock(e1, s3, 64)\n",
    "e3 = DecoderBlock(e2, s2, 32)\n",
    "e4 = DecoderBlock(e3, s1, 16)\n",
    "\n",
    "# Output Layer\n",
    "output = keras.layers.Conv2D(256, (1,1), activation='sigmoid')(e4)\n",
    "\n",
    "# Initialize Model\n",
    "unet = keras.Model(inputs=[input_layer], outputs=[output])"
   ],
   "metadata": {
    "id": "e979554c911aeaf4"
   },
   "id": "e979554c911aeaf4"
  },
  {
   "cell_type": "code",
   "execution_count": null,
   "outputs": [],
   "source": [
    "unet.summary()"
   ],
   "metadata": {
    "colab": {
     "base_uri": "https://localhost:8080/"
    },
    "id": "7e54f48577cf14e0",
    "outputId": "ca26c0ee-92bd-4627-ef6c-312e2f62bf8f"
   },
   "id": "7e54f48577cf14e0"
  },
  {
   "cell_type": "markdown",
   "source": [
    "#### Compile and Train Model"
   ],
   "metadata": {
    "collapsed": false,
    "id": "687161bedffc8228"
   },
   "id": "687161bedffc8228"
  },
  {
   "cell_type": "code",
   "execution_count": null,
   "outputs": [],
   "source": [
    "unet.compile(optimizer=keras.optimizers.Adam(),\n",
    "              loss=keras.losses.SparseCategoricalCrossentropy(from_logits=False),\n",
    "              metrics=['accuracy'])"
   ],
   "metadata": {
    "id": "24d3035319475f81"
   },
   "id": "24d3035319475f81"
  },
  {
   "cell_type": "code",
   "execution_count": null,
   "outputs": [],
   "source": [
    "unet_history = unet.fit(\n",
    "    train,\n",
    "    validation_data=val,\n",
    "    steps_per_epoch=len(X_train) // BATCH_SIZE_SEG,\n",
    "    validation_steps=len(X_val) // BATCH_SIZE_SEG,\n",
    "    epochs=50,\n",
    "    verbose=2,\n",
    "    callbacks=[callback]\n",
    ")"
   ],
   "metadata": {
    "colab": {
     "base_uri": "https://localhost:8080/"
    },
    "id": "b0afe6c8f6d206ee",
    "outputId": "ccfe7cce-b2cd-4dc7-ac34-a86992092da6"
   },
   "id": "b0afe6c8f6d206ee"
  },
  {
   "cell_type": "markdown",
   "source": [
    "## Build Classification Model"
   ],
   "metadata": {
    "collapsed": false,
    "id": "d6df5ff4a9152a35"
   },
   "id": "d6df5ff4a9152a35"
  },
  {
   "cell_type": "markdown",
   "source": [
    "#### Build CNN Architecture"
   ],
   "metadata": {
    "collapsed": false,
    "id": "16254ee702e51d9b"
   },
   "id": "16254ee702e51d9b"
  },
  {
   "cell_type": "code",
   "execution_count": null,
   "outputs": [],
   "source": [
    "model = tf.keras.Sequential([\n",
    "    keras.Input(shape=(IMG_HEIGHT, IMG_WIDTH, 3)),\n",
    "    data_augmentation,\n",
    "    keras.layers.Conv2D(64, 3, padding='same', activation='relu'),\n",
    "    keras.layers.MaxPooling2D(),\n",
    "    keras.layers.Conv2D(64, 3, padding='same', activation='relu'),\n",
    "    keras.layers.MaxPooling2D(),\n",
    "    keras.layers.Conv2D(128, 3, padding='same', activation='relu'),\n",
    "    keras.layers.MaxPooling2D(),\n",
    "    keras.layers.Flatten(),\n",
    "    keras.layers.Dense(32, activation='relu'),\n",
    "    keras.layers.Dropout(0.2),\n",
    "    keras.layers.Dense(len(class_names))\n",
    "])"
   ],
   "metadata": {
    "id": "6e7d1329b22985cd"
   },
   "id": "6e7d1329b22985cd"
  },
  {
   "cell_type": "code",
   "execution_count": null,
   "outputs": [],
   "source": [
    "model.summary()"
   ],
   "metadata": {
    "colab": {
     "base_uri": "https://localhost:8080/"
    },
    "id": "feeef0a50fad1a8f",
    "outputId": "e3acacce-c53f-4c96-9820-16d9414f8ea6"
   },
   "id": "feeef0a50fad1a8f"
  },
  {
   "cell_type": "markdown",
   "source": [
    "#### Compile and Train Model"
   ],
   "metadata": {
    "collapsed": false,
    "id": "388cdf6b1d93cd65"
   },
   "id": "388cdf6b1d93cd65"
  },
  {
   "cell_type": "code",
   "execution_count": null,
   "outputs": [],
   "source": [
    "model.compile(optimizer='adam',\n",
    "              loss=tf.keras.losses.SparseCategoricalCrossentropy(from_logits=True),\n",
    "              metrics=['accuracy'])"
   ],
   "metadata": {
    "id": "ff5e9a047125d42c"
   },
   "id": "ff5e9a047125d42c"
  },
  {
   "cell_type": "code",
   "execution_count": null,
   "outputs": [],
   "source": [
    "model_history = model.fit(\n",
    "    train_ds,\n",
    "    validation_data=val_ds,\n",
    "    epochs=50,\n",
    "    callbacks=[callback]\n",
    ")"
   ],
   "metadata": {
    "colab": {
     "base_uri": "https://localhost:8080/"
    },
    "id": "842c09ea0946bbc3",
    "outputId": "2be15d7a-ef36-4fa3-ae1d-dba4f18949b8"
   },
   "id": "842c09ea0946bbc3"
  },
  {
   "cell_type": "markdown",
   "source": [
    "## Evaluate Model"
   ],
   "metadata": {
    "collapsed": false,
    "id": "c0e0075f3dbfb039"
   },
   "id": "c0e0075f3dbfb039"
  },
  {
   "cell_type": "markdown",
   "source": [
    "#### Plot Accuracy and Loss Segmentation Model"
   ],
   "metadata": {
    "collapsed": false,
    "id": "4f8761e877410251"
   },
   "id": "4f8761e877410251"
  },
  {
   "cell_type": "code",
   "execution_count": null,
   "outputs": [],
   "source": [
    "# Retrieve Accuracy and Loss from Segmentation Model\n",
    "acc = unet_history.history['accuracy']\n",
    "val_acc = unet_history.history['val_accuracy']\n",
    "loss = unet_history.history['loss']\n",
    "val_loss = unet_history.history['val_loss']\n",
    "\n",
    "# Plot Accuracy\n",
    "plt.figure(figsize=(8, 8))\n",
    "plt.subplot(2, 1, 1)\n",
    "plt.plot(acc, label='Training Accuracy')\n",
    "plt.plot(val_acc, label='Validation Accuracy')\n",
    "plt.legend(loc='lower right')\n",
    "plt.ylabel('Accuracy')\n",
    "plt.ylim([min(plt.ylim()),1])\n",
    "plt.title('1st Model Training and Validation Accuracy')\n",
    "\n",
    "# Plot Loss\n",
    "plt.subplot(2, 1, 2)\n",
    "plt.plot(loss, label='Training Loss')\n",
    "plt.plot(val_loss, label='Validation Loss')\n",
    "plt.legend(loc='upper right')\n",
    "plt.ylabel('Cross Entropy')\n",
    "plt.ylim([0,1.0])\n",
    "plt.title('1st Model Training and Validation Loss')\n",
    "plt.xlabel('epoch')\n",
    "plt.show()"
   ],
   "metadata": {
    "colab": {
     "base_uri": "https://localhost:8080/",
     "height": 0
    },
    "id": "970fe8093734cc26",
    "outputId": "b189856a-147a-4c6c-bcc8-3cddbaa8de75"
   },
   "id": "970fe8093734cc26"
  },
  {
   "cell_type": "markdown",
   "source": [
    "#### Evaluate Segmentation Model with Test Dataset"
   ],
   "metadata": {
    "collapsed": false,
    "id": "c8c5af364b1428e7"
   },
   "id": "c8c5af364b1428e7"
  },
  {
   "cell_type": "code",
   "execution_count": null,
   "outputs": [],
   "source": [
    "# Load OG Image and Mask Image Path\n",
    "test_image_path = []\n",
    "test_mask_path = []\n",
    "for root, dirs, files in os.walk(SEG_DATASET_DIR + \"test_original/\"):\n",
    "    for file in files:\n",
    "        path_og = os.path.join(root,file)\n",
    "        path_mask = os.path.join(SEG_DATASET_DIR + \"test_mask/\",file)\n",
    "        test_image_path.append(path_og)\n",
    "        test_mask_path.append(path_mask)\n",
    "\n",
    "# Verify Length and Consistency OG and Mask Image\n",
    "print(len(test_image_path))\n",
    "print(test_image_path[1])\n",
    "print(len(test_mask_path))\n",
    "print(test_mask_path[1])\n",
    "\n",
    "# Decode Test Mask Image\n",
    "test_masks = []\n",
    "for path in tqdm(test_mask_path):\n",
    "    mask = tf.io.read_file(path)\n",
    "    mask_array = tf.image.decode_jpeg(mask, channels=1)\n",
    "    test_masks.append(mask_array)\n",
    "\n",
    "# Decode Test OG Image\n",
    "test_images = []\n",
    "for path in tqdm(test_image_path):\n",
    "    img = tf.io.read_file(path)\n",
    "    img_array = tf.image.decode_jpeg(img, channels=3)\n",
    "    test_images.append(img_array)\n",
    "\n",
    "# Initialize Resize Function for OG Image\n",
    "def resize_image(image):\n",
    "    image = tf.cast(image, dtype=tf.float32)\n",
    "    image = image/255.0\n",
    "    image = tf.image.resize(image, (IMG_HEIGHT, IMG_WIDTH))\n",
    "    return image\n",
    "\n",
    "# Initialize Resize Function for Mask Image\n",
    "def resize_mask(mask):\n",
    "    mask = tf.image.resize(mask, (IMG_HEIGHT, IMG_WIDTH))\n",
    "    mask = tf.cast(mask, dtype=tf.uint8)\n",
    "    return mask\n",
    "\n",
    "# Resize Test OG and Mask Image\n",
    "X = [resize_image(image) for image in test_images]\n",
    "y = [resize_mask(mask) for mask in test_masks]\n",
    "\n",
    "# Change Dataset Into TensorFlow Dataset\n",
    "X_test = tf.data.Dataset.from_tensor_slices(X)\n",
    "y_test = tf.data.Dataset.from_tensor_slices(y)\n",
    "\n",
    "# Zip Dataset\n",
    "test = tf.data.Dataset.zip((X_test, y_test))\n",
    "\n",
    "# Dataset Pipelining\n",
    "test = test.batch(BATCH_SIZE_SEG)"
   ],
   "metadata": {
    "colab": {
     "base_uri": "https://localhost:8080/"
    },
    "id": "ce18890a18c8c640",
    "outputId": "17cd1bcd-8e90-4274-f91b-7e8c1a95b252"
   },
   "id": "ce18890a18c8c640"
  },
  {
   "cell_type": "code",
   "execution_count": null,
   "outputs": [],
   "source": [
    "# Evaluate Model\n",
    "loss, accuracy = unet.evaluate(test)"
   ],
   "metadata": {
    "colab": {
     "base_uri": "https://localhost:8080/"
    },
    "id": "902d6a484a7ea97f",
    "outputId": "5308de13-51b2-4fac-8767-706ae5021af5"
   },
   "id": "902d6a484a7ea97f"
  },
  {
   "cell_type": "code",
   "execution_count": null,
   "outputs": [],
   "source": [
    "# Select a Validation Data Batch\n",
    "img, mask = next(iter(test))\n",
    "\n",
    "# Make Prediction\n",
    "pred = unet.predict(img)\n",
    "plt.figure(figsize=(30,38))\n",
    "\n",
    "k = 0\n",
    "for i in pred:\n",
    "    # Plot the Predicted Mask\n",
    "    plt.subplot(4,3,1+k*3)\n",
    "    i = tf.argmax(i, axis=-1)\n",
    "    plt.imshow(i,cmap='jet', norm=NORM)\n",
    "    plt.axis('off')\n",
    "    plt.title('Prediction')\n",
    "\n",
    "    # Plot the Groundtruth Mask\n",
    "    plt.subplot(4,3,2+k*3)\n",
    "    plt.imshow(mask[k], cmap='jet', norm=NORM)\n",
    "    plt.axis('off')\n",
    "    plt.title('Ground Truth')\n",
    "\n",
    "    # Plot the Actual Image\n",
    "    plt.subplot(4,3,3+k*3)\n",
    "    plt.imshow(img[k])\n",
    "    plt.axis('off')\n",
    "    plt.title('Actual Image')\n",
    "    k += 1\n",
    "    if k == 4: break\n",
    "\n",
    "plt.suptitle('Prediction', color='red', size=20)\n",
    "plt.show()"
   ],
   "metadata": {
    "colab": {
     "base_uri": "https://localhost:8080/",
     "height": 0
    },
    "id": "5a221a8e8db67368",
    "outputId": "3e3fc82e-09d5-4522-b40d-26132cef7e3c"
   },
   "id": "5a221a8e8db67368"
  },
  {
   "cell_type": "markdown",
   "source": [
    "#### Evaluate Segmentation Model with Real Cataract Image"
   ],
   "metadata": {
    "collapsed": false,
    "id": "f71e437252ab962f"
   },
   "id": "f71e437252ab962f"
  },
  {
   "cell_type": "code",
   "source": [
    "# Load OG Image and Mask Image Path\n",
    "test_image_path = []\n",
    "test_mask_path = []\n",
    "for root, dirs, files in os.walk('/content/drive/MyDrive/Skripsi/v_0.0.2/datasets/test_predict/'):\n",
    "    for file in files:\n",
    "        path_og = os.path.join(root,file)\n",
    "        path_mask = os.path.join('/content/drive/MyDrive/Skripsi/v_0.0.2/datasets/test_predict/', file)\n",
    "        test_image_path.append(path_og)\n",
    "        test_mask_path.append(path_mask)\n",
    "\n",
    "# Verify Length and Consistency OG and Mask Image\n",
    "print(len(test_image_path))\n",
    "print(test_image_path[1])\n",
    "print(len(test_mask_path))\n",
    "print(test_mask_path[1])\n",
    "\n",
    "# Decode Test Mask Image\n",
    "test_masks = []\n",
    "for path in tqdm(test_mask_path):\n",
    "    mask = tf.io.read_file(path)\n",
    "    mask_array = tf.image.decode_jpeg(mask, channels=1)\n",
    "    test_masks.append(mask_array)\n",
    "\n",
    "# Decode Test OG Image\n",
    "test_images = []\n",
    "for path in tqdm(test_image_path):\n",
    "    img = tf.io.read_file(path)\n",
    "    img_array = tf.image.decode_jpeg(img, channels=3)\n",
    "    test_images.append(img_array)\n",
    "\n",
    "# Initialize Resize Function for OG Image\n",
    "def resize_image(image):\n",
    "    image = tf.cast(image, dtype=tf.float32)\n",
    "    image = image/255.0\n",
    "    image = tf.image.resize(image, (IMG_HEIGHT, IMG_WIDTH))\n",
    "    return image\n",
    "\n",
    "# Initialize Resize Function for Mask Image\n",
    "def resize_mask(mask):\n",
    "    mask = tf.image.resize(mask, (IMG_HEIGHT, IMG_WIDTH))\n",
    "    mask = tf.cast(mask, dtype=tf.uint8)\n",
    "    return mask\n",
    "\n",
    "# Resize Test OG and Mask Image\n",
    "X = [resize_image(image) for image in test_images]\n",
    "y = [resize_mask(mask) for mask in test_masks]\n",
    "\n",
    "# Change Dataset Into TensorFlow Dataset\n",
    "X_test = tf.data.Dataset.from_tensor_slices(X)\n",
    "y_test = tf.data.Dataset.from_tensor_slices(y)\n",
    "\n",
    "# Zip Dataset\n",
    "test = tf.data.Dataset.zip((X_test, y_test))\n",
    "\n",
    "# Dataset Pipelining\n",
    "test = test.batch(BATCH_SIZE_SEG)"
   ],
   "metadata": {
    "colab": {
     "base_uri": "https://localhost:8080/"
    },
    "id": "jGJblYL4iDZT",
    "outputId": "e9b7b127-4cf9-425e-9e84-fd3c28adeff3"
   },
   "id": "jGJblYL4iDZT",
   "execution_count": null,
   "outputs": []
  },
  {
   "cell_type": "code",
   "source": [
    "# Select a Validation Data Batch\n",
    "img, mask = next(iter(test))\n",
    "\n",
    "# Make Prediction\n",
    "pred = unet.predict(img)\n",
    "plt.figure(figsize=(20,28))\n",
    "\n",
    "k = 0\n",
    "for i in pred:\n",
    "    # Plot the Predicted Mask\n",
    "    plt.subplot(4,3,1+k*3)\n",
    "    i = tf.argmax(i, axis=-1)\n",
    "    plt.imshow(i,cmap='jet', norm=NORM)\n",
    "    plt.axis('off')\n",
    "    plt.title('Prediction')\n",
    "\n",
    "    # Plot the Actual Image\n",
    "    plt.subplot(4,3,2+k*3)\n",
    "    plt.imshow(img[k])\n",
    "    plt.axis('off')\n",
    "    plt.title('Actual Image')\n",
    "    k += 1\n",
    "    if k == 4: break\n",
    "\n",
    "plt.suptitle('Prediction', color='red', size=20)\n",
    "plt.show()"
   ],
   "metadata": {
    "colab": {
     "base_uri": "https://localhost:8080/",
     "height": 1000
    },
    "id": "cCxmis4-i_Ez",
    "outputId": "dc2a7fb2-b32c-491e-adc8-1d9aecb51005"
   },
   "id": "cCxmis4-i_Ez",
   "execution_count": null,
   "outputs": []
  },
  {
   "cell_type": "markdown",
   "source": [
    "#### Plot Accuracy and Loss Classification Model"
   ],
   "metadata": {
    "collapsed": false,
    "id": "149387b83304fdc3"
   },
   "id": "149387b83304fdc3"
  },
  {
   "cell_type": "code",
   "execution_count": null,
   "outputs": [],
   "source": [
    "# Retrieve Accuracy and Loss from Classification Model\n",
    "acc = model_history.history['accuracy']\n",
    "val_acc = model_history.history['val_accuracy']\n",
    "loss = model_history.history['loss']\n",
    "val_loss = model_history.history['val_loss']\n",
    "\n",
    "# Plot Accuracy\n",
    "plt.figure(figsize=(8, 8))\n",
    "plt.subplot(2, 1, 1)\n",
    "plt.plot(acc, label='Training Accuracy')\n",
    "plt.plot(val_acc, label='Validation Accuracy')\n",
    "plt.legend(loc='lower right')\n",
    "plt.ylabel('Accuracy')\n",
    "plt.ylim([min(plt.ylim()),1])\n",
    "plt.title('1st Model Training and Validation Accuracy')\n",
    "\n",
    "# Plot Loss\n",
    "plt.subplot(2, 1, 2)\n",
    "plt.plot(loss, label='Training Loss')\n",
    "plt.plot(val_loss, label='Validation Loss')\n",
    "plt.legend(loc='upper right')\n",
    "plt.ylabel('Cross Entropy')\n",
    "plt.ylim([0,1.0])\n",
    "plt.title('1st Model Training and Validation Loss')\n",
    "plt.xlabel('epoch')\n",
    "plt.show()"
   ],
   "metadata": {
    "colab": {
     "base_uri": "https://localhost:8080/",
     "height": 0
    },
    "id": "7d8d879ef1a87d77",
    "outputId": "cf20609e-bbb3-46b4-c0e6-89cab711a15a"
   },
   "id": "7d8d879ef1a87d77"
  },
  {
   "cell_type": "markdown",
   "source": [
    "#### Evaluate Classification Model with Test Dataset"
   ],
   "metadata": {
    "collapsed": false,
    "id": "42da875bd5073c07"
   },
   "id": "42da875bd5073c07"
  },
  {
   "cell_type": "code",
   "execution_count": null,
   "outputs": [],
   "source": [
    "# Evaluate Model\n",
    "loss, accuracy = model.evaluate(test_ds)"
   ],
   "metadata": {
    "colab": {
     "base_uri": "https://localhost:8080/"
    },
    "id": "d5b87b7ebc765cd7",
    "outputId": "a116c0fd-831a-4871-d65f-2e3c0ccb393c"
   },
   "id": "d5b87b7ebc765cd7"
  },
  {
   "cell_type": "code",
   "execution_count": null,
   "outputs": [],
   "source": [
    "# Retrieve a True Label from the Test Dataset\n",
    "y_true = np.concatenate([i for x, i in test_ds])\n",
    "\n",
    "# Make Prediction\n",
    "y_pred = np.argmax(model.predict(test_ds), axis=-1)\n",
    "\n",
    "# Plot Confusion Matrix\n",
    "conf_mat = confusion_matrix(y_true, y_pred)"
   ],
   "metadata": {
    "colab": {
     "base_uri": "https://localhost:8080/"
    },
    "id": "a4a4af8df06b151e",
    "outputId": "3ae12603-2753-445b-d6fc-33fe0006c0ff"
   },
   "id": "a4a4af8df06b151e"
  },
  {
   "cell_type": "code",
   "execution_count": null,
   "outputs": [],
   "source": [
    "# Plot Function Confusion Matrix\n",
    "def show_confusion_matrix(cm, classes, normalize=False, title='Confusion matrix', cmap=plt.cm.Blues):\n",
    "    plt.figure(figsize=(10, 10))\n",
    "    plt.imshow(cm, interpolation='nearest', cmap=cmap)\n",
    "    plt.title(title, fontsize=20)\n",
    "    plt.colorbar()\n",
    "    tick_marks = np.arange(len(classes))\n",
    "    plt.xticks(tick_marks, classes, rotation=90, fontsize=15)\n",
    "    plt.yticks(tick_marks, classes, fontsize=15)\n",
    "\n",
    "    if normalize:\n",
    "        cm = cm.astype('float') / cm.sum(axis=1)[:, np.newaxis]\n",
    "\n",
    "    thresh = cm.max() / 2\n",
    "    for i, j in itertools.product(range(cm.shape[0]), range(cm.shape[1])):\n",
    "            plt.text(j, i, cm[i, j],\n",
    "                     horizontalalignment=\"center\",\n",
    "                     color=\"white\" if cm[i, j] > thresh else \"black\",\n",
    "                     fontsize=15)\n",
    "\n",
    "    plt.tight_layout()\n",
    "    plt.ylabel('True label', fontsize=20)\n",
    "    plt.xlabel('Predicted label', fontsize=20)"
   ],
   "metadata": {
    "id": "b71494bab70ae856"
   },
   "id": "b71494bab70ae856"
  },
  {
   "cell_type": "code",
   "execution_count": null,
   "outputs": [],
   "source": [
    "# Show Confusion Matrix\n",
    "show_confusion_matrix(conf_mat, class_names)"
   ],
   "metadata": {
    "colab": {
     "base_uri": "https://localhost:8080/",
     "height": 0
    },
    "id": "d02622a50c978457",
    "outputId": "ca93a235-7fe5-4a66-8ee1-3abd4d7d9ee3"
   },
   "id": "d02622a50c978457"
  },
  {
   "cell_type": "markdown",
   "source": [
    "#### Evaluate Classification Model with Real Cataract Image"
   ],
   "metadata": {
    "collapsed": false,
    "id": "6404291c1355e1a5"
   },
   "id": "6404291c1355e1a5"
  },
  {
   "cell_type": "code",
   "execution_count": null,
   "outputs": [],
   "source": [
    "# Predict Sequential\n",
    "predict_model = keras.Sequential([\n",
    "    model,\n",
    "    keras.layers.Softmax()\n",
    "])"
   ],
   "metadata": {
    "id": "f73893ff2cb9ef88"
   },
   "id": "f73893ff2cb9ef88"
  },
  {
   "cell_type": "code",
   "execution_count": null,
   "outputs": [],
   "source": [
    "# Predict with Real Cataract Image\n",
    "for filename in os.listdir(TEST_PREDICT_DIR):\n",
    "    img = keras.preprocessing.image.load_img(TEST_PREDICT_DIR + filename, target_size=(IMG_HEIGHT, IMG_WIDTH))\n",
    "    img_array = keras.preprocessing.image.img_to_array(img)\n",
    "    img_array = tf.expand_dims(img_array, 0)\n",
    "\n",
    "    predictions = predict_model.predict(img_array)\n",
    "\n",
    "    score = tf.nn.softmax(predictions[0])\n",
    "\n",
    "    print(filename)\n",
    "    print(\"This image most likely belongs to {} with a {:.2f} percent confidence.\".format(class_names[np.argmax(score)], 100 * np.max(score)))\n",
    "    print(predictions)"
   ],
   "metadata": {
    "colab": {
     "base_uri": "https://localhost:8080/"
    },
    "id": "7c53f82dce588ef1",
    "outputId": "4916430a-4c72-458c-d89d-6d9a9b64a476"
   },
   "id": "7c53f82dce588ef1"
  }
 ],
 "metadata": {
  "kernelspec": {
   "name": "python3",
   "language": "python",
   "display_name": "Python 3 (ipykernel)"
  },
  "language_info": {
   "codemirror_mode": {
    "name": "ipython",
    "version": 2
   },
   "file_extension": ".py",
   "mimetype": "text/x-python",
   "name": "python",
   "nbconvert_exporter": "python",
   "pygments_lexer": "ipython2",
   "version": "2.7.6"
  },
  "colab": {
   "provenance": [],
   "machine_shape": "hm",
   "gpuType": "T4"
  },
  "accelerator": "GPU"
 },
 "nbformat": 4,
 "nbformat_minor": 5
}
